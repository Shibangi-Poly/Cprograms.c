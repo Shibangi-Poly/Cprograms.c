{
  "nbformat": 4,
  "nbformat_minor": 0,
  "metadata": {
    "colab": {
      "name": "Untitled0.ipynb",
      "provenance": [],
      "authorship_tag": "ABX9TyOtCoCcm9kioeMJ3jYhjvqd",
      "include_colab_link": true
    },
    "kernelspec": {
      "name": "python3",
      "display_name": "Python 3"
    },
    "language_info": {
      "name": "python"
    }
  },
  "cells": [
    {
      "cell_type": "markdown",
      "metadata": {
        "id": "view-in-github",
        "colab_type": "text"
      },
      "source": [
        "<a href=\"https://colab.research.google.com/github/Shibangi-Poly/Cprograms.c/blob/master/Untitled0.ipynb\" target=\"_parent\"><img src=\"https://colab.research.google.com/assets/colab-badge.svg\" alt=\"Open In Colab\"/></a>"
      ]
    },
    {
      "cell_type": "code",
      "execution_count": 1,
      "metadata": {
        "id": "30ab6E6bMG64"
      },
      "outputs": [],
      "source": [
        "import numpy as np\n",
        "import pandas as pd\n",
        "import seaborn as sns\n",
        "import matplotlib.pyplot as plt\n"
      ]
    },
    {
      "cell_type": "code",
      "source": [
        "x_simple = pd.DataFrame([(-2,4), (-1,1), (0,3), (1,2), (2,0)], columns=[\"X\", \"Y\"])\n",
        "my_r = x_simple.corr(method=\"spearman\")\n",
        "print(my_r)"
      ],
      "metadata": {
        "colab": {
          "base_uri": "https://localhost:8080/"
        },
        "id": "26yl-3wlMaGU",
        "outputId": "1a709ea3-8a3a-4c78-db8e-9b3558220522"
      },
      "execution_count": 3,
      "outputs": [
        {
          "output_type": "stream",
          "name": "stdout",
          "text": [
            "     X    Y\n",
            "X  1.0 -0.7\n",
            "Y -0.7  1.0\n"
          ]
        }
      ]
    },
    {
      "cell_type": "code",
      "source": [
        "def display_correlation(df):\n",
        "  r = df.corr(method=\"spearman\")\n",
        "  plt.figure(figsize=(10,6))\n",
        "  heatmap = sns.heatmap(df.corr(), vmin=-1, vmax=1, annot=True)\n",
        "  plt.title(\"Spearman Correlation\")\n",
        "  return(r)\n",
        "  "
      ],
      "metadata": {
        "id": "8bE0D01fNbqd"
      },
      "execution_count": 5,
      "outputs": []
    },
    {
      "cell_type": "code",
      "source": [
        "r_simple=display_correlation(x_simple)"
      ],
      "metadata": {
        "colab": {
          "base_uri": "https://localhost:8080/",
          "height": 390
        },
        "id": "nSuST-rjOdlD",
        "outputId": "363917d2-2a52-436b-de13-0ea494e5cee1"
      },
      "execution_count": 6,
      "outputs": [
        {
          "output_type": "display_data",
          "data": {
            "image/png": "[encoded data removed]",
            "text/plain": [
              "<Figure size 720x432 with 2 Axes>"
            ]
          },
          "metadata": {
            "needs_background": "light"
          }
        }
      ]
    }
  ]
}